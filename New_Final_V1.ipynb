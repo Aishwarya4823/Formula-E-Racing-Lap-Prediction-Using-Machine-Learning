{
 "cells": [
  {
   "cell_type": "code",
   "execution_count": 119,
   "metadata": {},
   "outputs": [],
   "source": [
    "#importing the relevant libraries\n",
    "import pandas as pd\n",
    "import numpy as np\n",
    "import os\n",
    "from glob import glob\n",
    "import sys\n",
    "pd.set_option('display.max_columns', None, 'display.max_rows', None)\n",
    "\n",
    "from IPython.core.interactiveshell import InteractiveShell\n",
    "InteractiveShell.ast_node_interactivity = \"all\"\n",
    "# pd.set_option('max_colwidth',-1)"
   ]
  },
  {
   "cell_type": "code",
   "execution_count": 120,
   "metadata": {},
   "outputs": [],
   "source": [
    "dta = pd.read_csv('./sampledata/Test/Bejing/Race/Analysis_Race.CSV', sep=\";\", encoding = \"ISO-8859-1\")\n",
    "dtc = pd.read_csv('./sampledata/Test/Bejing/Race/Classification_Race.CSV', sep=\";\", encoding = \"ISO-8859-1\")\n",
    "dtc['DRIVER_NAME'] = dtc['DRIVER_FIRSTNAME'] + \" \" + dtc['DRIVER_SECONDNAME']\n",
    "new_test = dta.merge(dtc, on=\"DRIVER_NAME\")\n",
    "new_test = new_test.rename(columns=lambda x: x.strip())"
   ]
  },
  {
   "cell_type": "code",
   "execution_count": 121,
   "metadata": {},
   "outputs": [
    {
     "data": {
      "text/plain": [
       "10"
      ]
     },
     "execution_count": 121,
     "metadata": {},
     "output_type": "execute_result"
    }
   ],
   "source": [
    "new_test = new_test.drop(columns = ['DRIVER_NUMBER', 'LAPS', 'FL_KPH', 'HOUR', 'TOTAL_TIME',\n",
    "       'NUMBER', 'DRIVER_SHORTNAME', 'S2_LARGE',\n",
    "       'FL_LAPNUM', 'VEHICLE',\n",
    "       'LAP_IMPROVEMENT', 'CLASS', 'S2_IMPROVEMENT', 'TOP_SPEED',\n",
    "       'DRIVER_COUNTRY', 'STATUS', 'ELAPSED', 'ï»¿POSITION', 'TIRES',\n",
    "       'S3_LARGE', 'GAP_PREVIOUS', 'ï»¿NUMBER',\n",
    "       'GAP_FIRST', 'DIVISION', 'DRIVER_SECONDNAME', 'DRIVER_FIRSTNAME',\n",
    "       'LAP_TIME', 'S1_IMPROVEMENT', 'DRIVER_HOMETOWN', 'FL_TIME',\n",
    "       'S1_LARGE', 'DRIVER_LICENSE', 'S3_IMPROVEMENT', 'Unnamed: 21', 'Unnamed: 22'])\n",
    "len(new_test.keys())"
   ]
  },
  {
   "cell_type": "code",
   "execution_count": 122,
   "metadata": {},
   "outputs": [],
   "source": [
    "new_test['location'] = 'Bejing'\n",
    "# new_test['match_type'] = 'Race'"
   ]
  },
  {
   "cell_type": "code",
   "execution_count": 123,
   "metadata": {},
   "outputs": [
    {
     "data": {
      "text/plain": [
       "11"
      ]
     },
     "execution_count": 123,
     "metadata": {},
     "output_type": "execute_result"
    }
   ],
   "source": [
    "len(new_test.keys())"
   ]
  },
  {
   "cell_type": "code",
   "execution_count": 124,
   "metadata": {},
   "outputs": [
    {
     "name": "stderr",
     "output_type": "stream",
     "text": [
      "<ipython-input-124-c6a8297bc89c>:12: SettingWithCopyWarning: \n",
      "A value is trying to be set on a copy of a slice from a DataFrame\n",
      "\n",
      "See the caveats in the documentation: https://pandas.pydata.org/pandas-docs/stable/user_guide/indexing.html#returning-a-view-versus-a-copy\n",
      "  p[count] = \"00:\" + str(j)\n",
      "<ipython-input-124-c6a8297bc89c>:15: SettingWithCopyWarning: \n",
      "A value is trying to be set on a copy of a slice from a DataFrame\n",
      "\n",
      "See the caveats in the documentation: https://pandas.pydata.org/pandas-docs/stable/user_guide/indexing.html#returning-a-view-versus-a-copy\n",
      "  p[count] = float(p[count].split(\":\")[0])*3600000 + float(p[count].split(\":\")[1])*60000 + float(p[count].split(\":\")[2])*1000\n",
      "<ipython-input-124-c6a8297bc89c>:10: SettingWithCopyWarning: \n",
      "A value is trying to be set on a copy of a slice from a DataFrame\n",
      "\n",
      "See the caveats in the documentation: https://pandas.pydata.org/pandas-docs/stable/user_guide/indexing.html#returning-a-view-versus-a-copy\n",
      "  p[count] = \"00:00:\" + str(j)\n",
      "<ipython-input-124-c6a8297bc89c>:14: SettingWithCopyWarning: \n",
      "A value is trying to be set on a copy of a slice from a DataFrame\n",
      "\n",
      "See the caveats in the documentation: https://pandas.pydata.org/pandas-docs/stable/user_guide/indexing.html#returning-a-view-versus-a-copy\n",
      "  p[count] = \"\" + str(j)\n",
      "<ipython-input-124-c6a8297bc89c>:8: SettingWithCopyWarning: \n",
      "A value is trying to be set on a copy of a slice from a DataFrame\n",
      "\n",
      "See the caveats in the documentation: https://pandas.pydata.org/pandas-docs/stable/user_guide/indexing.html#returning-a-view-versus-a-copy\n",
      "  p[count] = \"00:00:00\"\n"
     ]
    }
   ],
   "source": [
    "import math\n",
    "\n",
    "for i in (['S1', 'S2', 'S3', 'PIT_TIME']):\n",
    "    p = new_test[i]\n",
    "    for count, j in enumerate(p):\n",
    "        x = len(str(j).split(':'))\n",
    "        if (pd.isna(j)):\n",
    "            p[count] = \"00:00:00\"\n",
    "        elif (x == 1):\n",
    "            p[count] = \"00:00:\" + str(j)\n",
    "        elif (x == 2):\n",
    "            p[count] = \"00:\" + str(j)\n",
    "        elif (x == 3):\n",
    "            p[count] = \"\" + str(j)\n",
    "        p[count] = float(p[count].split(\":\")[0])*3600000 + float(p[count].split(\":\")[1])*60000 + float(p[count].split(\":\")[2])*1000\n",
    "    new_test[i] = p\n",
    "    \n",
    "new_test[['KPH', 'S1', 'S2', 'S3', 'LAP_NUMBER', 'PIT_TIME']] = new_test[['KPH', 'S1', 'S2', 'S3', 'LAP_NUMBER', 'PIT_TIME']].apply(pd.to_numeric)"
   ]
  },
  {
   "cell_type": "code",
   "execution_count": 125,
   "metadata": {},
   "outputs": [
    {
     "data": {
      "text/plain": [
       "(431, 11)"
      ]
     },
     "execution_count": 125,
     "metadata": {},
     "output_type": "execute_result"
    }
   ],
   "source": [
    "new_test.shape"
   ]
  },
  {
   "cell_type": "code",
   "execution_count": 126,
   "metadata": {},
   "outputs": [],
   "source": [
    "new_test[['GROUP']] = new_test[['GROUP']].fillna(0)\n",
    "# new_test[['CROSSING_FINISH_LINE_IN_PIT']] = new_test[['CROSSING_FINISH_LINE_IN_PIT']].fillna('')\n",
    "# new_test['GROUP'] = new_test['GROUP'].replace({'A':0,'B':0})"
   ]
  },
  {
   "cell_type": "code",
   "execution_count": 127,
   "metadata": {},
   "outputs": [
    {
     "data": {
      "text/html": [
       "<div>\n",
       "<style scoped>\n",
       "    .dataframe tbody tr th:only-of-type {\n",
       "        vertical-align: middle;\n",
       "    }\n",
       "\n",
       "    .dataframe tbody tr th {\n",
       "        vertical-align: top;\n",
       "    }\n",
       "\n",
       "    .dataframe thead th {\n",
       "        text-align: right;\n",
       "    }\n",
       "</style>\n",
       "<table border=\"1\" class=\"dataframe\">\n",
       "  <thead>\n",
       "    <tr style=\"text-align: right;\">\n",
       "      <th></th>\n",
       "      <th>LAP_NUMBER</th>\n",
       "      <th>CROSSING_FINISH_LINE_IN_PIT</th>\n",
       "      <th>S1</th>\n",
       "      <th>S2</th>\n",
       "      <th>S3</th>\n",
       "      <th>KPH</th>\n",
       "      <th>DRIVER_NAME</th>\n",
       "      <th>PIT_TIME</th>\n",
       "      <th>TEAM</th>\n",
       "      <th>GROUP</th>\n",
       "      <th>location</th>\n",
       "    </tr>\n",
       "  </thead>\n",
       "  <tbody>\n",
       "    <tr>\n",
       "      <th>0</th>\n",
       "      <td>1</td>\n",
       "      <td>NaN</td>\n",
       "      <td>2295917.0</td>\n",
       "      <td>37598.0</td>\n",
       "      <td>36688.0</td>\n",
       "      <td>5.2</td>\n",
       "      <td>Jarno Trulli</td>\n",
       "      <td>2259620.0</td>\n",
       "      <td>Trulli Formula E Team</td>\n",
       "      <td>1</td>\n",
       "      <td>Bejing</td>\n",
       "    </tr>\n",
       "    <tr>\n",
       "      <th>1</th>\n",
       "      <td>2</td>\n",
       "      <td>NaN</td>\n",
       "      <td>39052.0</td>\n",
       "      <td>35808.0</td>\n",
       "      <td>37736.0</td>\n",
       "      <td>110.4</td>\n",
       "      <td>Jarno Trulli</td>\n",
       "      <td>0.0</td>\n",
       "      <td>Trulli Formula E Team</td>\n",
       "      <td>1</td>\n",
       "      <td>Bejing</td>\n",
       "    </tr>\n",
       "    <tr>\n",
       "      <th>2</th>\n",
       "      <td>1</td>\n",
       "      <td>NaN</td>\n",
       "      <td>42306.0</td>\n",
       "      <td>36207.0</td>\n",
       "      <td>35301.0</td>\n",
       "      <td>109.2</td>\n",
       "      <td>Lucas di Grassi</td>\n",
       "      <td>0.0</td>\n",
       "      <td>Audi Sport ABT Formula E Team</td>\n",
       "      <td>3</td>\n",
       "      <td>Bejing</td>\n",
       "    </tr>\n",
       "  </tbody>\n",
       "</table>\n",
       "</div>"
      ],
      "text/plain": [
       "   LAP_NUMBER CROSSING_FINISH_LINE_IN_PIT         S1       S2       S3    KPH  \\\n",
       "0           1                         NaN  2295917.0  37598.0  36688.0    5.2   \n",
       "1           2                         NaN    39052.0  35808.0  37736.0  110.4   \n",
       "2           1                         NaN    42306.0  36207.0  35301.0  109.2   \n",
       "\n",
       "       DRIVER_NAME   PIT_TIME                           TEAM  GROUP location  \n",
       "0     Jarno Trulli  2259620.0          Trulli Formula E Team      1   Bejing  \n",
       "1     Jarno Trulli        0.0          Trulli Formula E Team      1   Bejing  \n",
       "2  Lucas di Grassi        0.0  Audi Sport ABT Formula E Team      3   Bejing  "
      ]
     },
     "execution_count": 127,
     "metadata": {},
     "output_type": "execute_result"
    }
   ],
   "source": [
    "new_test.head(3)"
   ]
  },
  {
   "cell_type": "code",
   "execution_count": 128,
   "metadata": {},
   "outputs": [
    {
     "data": {
      "text/plain": [
       "({'Charles Pic',\n",
       "  'Daniel Abt',\n",
       "  'Franck Montagny',\n",
       "  'Ho-Pin Tung',\n",
       "  'Jaime Alguersuari',\n",
       "  'Jarno Trulli',\n",
       "  \"JÃ©rome d'AmbrosioÂ\\xa0\",\n",
       "  'Karun Chandhok',\n",
       "  'Katherine Legge',\n",
       "  'Lucas di Grassi',\n",
       "  'Michela Cerruti',\n",
       "  'Nelson Piquet JR',\n",
       "  'Nick Heidfeld',\n",
       "  'Nicolas Prost',\n",
       "  'Oriol Servia',\n",
       "  'Sam Bird',\n",
       "  'Sebastien Buemi',\n",
       "  'Stephane Sarrazin',\n",
       "  'Takuma Sato'},\n",
       " 25)"
      ]
     },
     "execution_count": 128,
     "metadata": {},
     "output_type": "execute_result"
    }
   ],
   "source": [
    "set(new_test['DRIVER_NAME']), max(new_test['LAP_NUMBER'])"
   ]
  },
  {
   "cell_type": "code",
   "execution_count": 129,
   "metadata": {},
   "outputs": [],
   "source": [
    "Drivers = list(set(new_test['DRIVER_NAME']))\n",
    "Max_Laps = max(new_test['LAP_NUMBER'])"
   ]
  },
  {
   "cell_type": "code",
   "execution_count": 130,
   "metadata": {},
   "outputs": [],
   "source": [
    "from sklearn import ensemble, linear_model, neighbors, svm\n",
    "from sklearn.model_selection import train_test_split\n",
    "from sklearn.metrics import mean_squared_error, r2_score\n",
    "from sklearn.preprocessing import OneHotEncoder\n",
    "import joblib\n",
    "\n",
    "def encode_column_to_dataframe(df, allcols):\n",
    "    '''Takes the column name as a string and adds to the dataframe'''\n",
    "    for col in allcols:\n",
    "        #dum_df = pd.get_dummies(df, columns=col, prefix=col)\n",
    "        # creating instance of one-hot-encoder\n",
    "        enc = OneHotEncoder(handle_unknown='ignore')\n",
    "        # passing bridge-types-cat column (label encoded values of bridge_types)\n",
    "        enc_df = pd.DataFrame(enc.fit_transform(df[[col]]).toarray())\n",
    "        # merge with main df bridge_df on key values\n",
    "        df = df.join(enc_df.add_prefix(col+\"_\"))\n",
    "    return df\n",
    "def get_encoded_dataframe(final):\n",
    "    final_data = encode_column_to_dataframe(final,['DRIVER_NAME','location','match_type','TEAM'])\n",
    "    final_data.drop(columns = ['DRIVER_NAME','location','match_type','TEAM'],inplace = True)\n",
    "    #final_copy.to_csv('./cleaned/final_processed_before_ml.csv')\n",
    "    #drop only if that column exists originally\n",
    "    #final_data.drop(columns = ['Unnamed: 0'],inplace = True)\n",
    "    return final_data\n",
    "def get_encoded_dataframe_1(final):\n",
    "    for i in ['DRIVER_NAME','location','TEAM']:\n",
    "        final[i] = final[i].astype('category').cat.codes\n",
    "    normalized_df=(final-final.mean())/final.std()\n",
    "    return normalized_df"
   ]
  },
  {
   "cell_type": "code",
   "execution_count": 215,
   "metadata": {},
   "outputs": [
    {
     "data": {
      "text/plain": [
       "(1305, 30)"
      ]
     },
     "execution_count": 215,
     "metadata": {},
     "output_type": "execute_result"
    }
   ],
   "source": [
    "dr = pd.read_csv('./cleaned_train/race_train_final_processed1.csv')\n",
    "dr.shape"
   ]
  },
  {
   "cell_type": "code",
   "execution_count": 216,
   "metadata": {},
   "outputs": [
    {
     "name": "stdout",
     "output_type": "stream",
     "text": [
      "Oriol Servia 1\n",
      "Oriol Servia 2\n",
      "Oriol Servia 3\n",
      "Oriol Servia 4\n",
      "Oriol Servia 5\n",
      "Oriol Servia 6\n",
      "Oriol Servia 7\n",
      "Oriol Servia 8\n",
      "Oriol Servia 9\n",
      "Oriol Servia 10\n",
      "Oriol Servia 11\n",
      "Oriol Servia 12\n",
      "Oriol Servia 13\n",
      "Oriol Servia 14\n",
      "Oriol Servia 15\n",
      "Oriol Servia 16\n",
      "Oriol Servia 17\n",
      "Oriol Servia 18\n",
      "Oriol Servia 19\n",
      "Oriol Servia 20\n",
      "Oriol Servia 21\n",
      "Oriol Servia 22\n",
      "Oriol Servia 23\n",
      "Oriol Servia 24\n",
      "Jaime Alguersuari 1\n",
      "Jaime Alguersuari 2\n",
      "Jaime Alguersuari 3\n",
      "Jaime Alguersuari 4\n",
      "Jaime Alguersuari 5\n",
      "Jaime Alguersuari 6\n",
      "Jaime Alguersuari 7\n",
      "Jaime Alguersuari 8\n",
      "Jaime Alguersuari 9\n",
      "Jaime Alguersuari 10\n",
      "Jaime Alguersuari 11\n",
      "Jaime Alguersuari 12\n",
      "Jaime Alguersuari 13\n",
      "Jaime Alguersuari 14\n",
      "Jaime Alguersuari 15\n",
      "Jaime Alguersuari 16\n",
      "Jaime Alguersuari 17\n",
      "Jaime Alguersuari 18\n",
      "Jaime Alguersuari 19\n",
      "Jaime Alguersuari 20\n",
      "Jaime Alguersuari 21\n",
      "Jaime Alguersuari 22\n",
      "Jaime Alguersuari 23\n",
      "Jaime Alguersuari 24\n",
      "Stephane Sarrazin 1\n",
      "Stephane Sarrazin 2\n",
      "Stephane Sarrazin 3\n",
      "Stephane Sarrazin 4\n",
      "Stephane Sarrazin 5\n",
      "Stephane Sarrazin 6\n",
      "Stephane Sarrazin 7\n",
      "Stephane Sarrazin 8\n",
      "Stephane Sarrazin 9\n",
      "Stephane Sarrazin 10\n",
      "Stephane Sarrazin 11\n",
      "Stephane Sarrazin 12\n",
      "Stephane Sarrazin 13\n",
      "Stephane Sarrazin 14\n",
      "Stephane Sarrazin 15\n",
      "Stephane Sarrazin 16\n",
      "Stephane Sarrazin 17\n",
      "Stephane Sarrazin 18\n",
      "Stephane Sarrazin 19\n",
      "Stephane Sarrazin 20\n",
      "Stephane Sarrazin 21\n",
      "Stephane Sarrazin 22\n",
      "Stephane Sarrazin 23\n",
      "Stephane Sarrazin 24\n",
      "Nelson Piquet JR 1\n",
      "Nelson Piquet JR 2\n",
      "Nelson Piquet JR 3\n",
      "Nelson Piquet JR 4\n",
      "Nelson Piquet JR 5\n",
      "Nelson Piquet JR 6\n",
      "Nelson Piquet JR 7\n",
      "Nelson Piquet JR 8\n",
      "Nelson Piquet JR 9\n",
      "Nelson Piquet JR 10\n",
      "Nelson Piquet JR 11\n",
      "Nelson Piquet JR 12\n",
      "Nelson Piquet JR 13\n",
      "Nelson Piquet JR 14\n",
      "Nelson Piquet JR 15\n",
      "Nelson Piquet JR 16\n",
      "Nelson Piquet JR 17\n",
      "Nelson Piquet JR 18\n",
      "Nelson Piquet JR 19\n",
      "Nelson Piquet JR 20\n",
      "Nelson Piquet JR 21\n",
      "Nelson Piquet JR 22\n",
      "Nelson Piquet JR 23\n",
      "Nelson Piquet JR 24\n",
      "Sam Bird 1\n",
      "Sam Bird 2\n",
      "Sam Bird 3\n",
      "Sam Bird 4\n",
      "Sam Bird 5\n",
      "Sam Bird 6\n",
      "Sam Bird 7\n",
      "Sam Bird 8\n",
      "Sam Bird 9\n",
      "Sam Bird 10\n",
      "Sam Bird 11\n",
      "Sam Bird 12\n",
      "Sam Bird 13\n",
      "Sam Bird 14\n",
      "Sam Bird 15\n",
      "Sam Bird 16\n",
      "Sam Bird 17\n",
      "Sam Bird 18\n",
      "Sam Bird 19\n",
      "Sam Bird 20\n",
      "Sam Bird 21\n",
      "Sam Bird 22\n",
      "Sam Bird 23\n",
      "Sam Bird 24\n",
      "Daniel Abt 1\n",
      "Daniel Abt 2\n",
      "Daniel Abt 3\n",
      "Daniel Abt 4\n",
      "Daniel Abt 5\n",
      "Daniel Abt 6\n",
      "Daniel Abt 7\n",
      "Daniel Abt 8\n",
      "Daniel Abt 9\n",
      "Daniel Abt 10\n",
      "Daniel Abt 11\n",
      "Daniel Abt 12\n",
      "Daniel Abt 13\n",
      "Daniel Abt 14\n",
      "Daniel Abt 15\n",
      "Daniel Abt 16\n",
      "Daniel Abt 17\n",
      "Daniel Abt 18\n",
      "Daniel Abt 19\n",
      "Daniel Abt 20\n",
      "Daniel Abt 21\n",
      "Daniel Abt 22\n",
      "Daniel Abt 23\n",
      "Daniel Abt 24\n",
      "Michela Cerruti 1\n",
      "Michela Cerruti 2\n",
      "Michela Cerruti 3\n",
      "Michela Cerruti 4\n",
      "Michela Cerruti 5\n",
      "Michela Cerruti 6\n",
      "Michela Cerruti 7\n",
      "Michela Cerruti 8\n",
      "Michela Cerruti 9\n",
      "Michela Cerruti 10\n",
      "Michela Cerruti 11\n",
      "Michela Cerruti 12\n",
      "Michela Cerruti 13\n",
      "Michela Cerruti 14\n",
      "Michela Cerruti 15\n",
      "Michela Cerruti 16\n",
      "Michela Cerruti 17\n",
      "Michela Cerruti 18\n",
      "Michela Cerruti 19\n",
      "Michela Cerruti 20\n",
      "Michela Cerruti 21\n",
      "Michela Cerruti 22\n",
      "Michela Cerruti 23\n",
      "Michela Cerruti 24\n",
      "Charles Pic 1\n",
      "Charles Pic 2\n",
      "Charles Pic 3\n",
      "Charles Pic 4\n",
      "Charles Pic 5\n",
      "Charles Pic 6\n",
      "Charles Pic 7\n",
      "Charles Pic 8\n",
      "Charles Pic 9\n",
      "Charles Pic 10\n",
      "Charles Pic 11\n",
      "Charles Pic 12\n",
      "Charles Pic 13\n",
      "Charles Pic 14\n",
      "Charles Pic 15\n",
      "Charles Pic 16\n",
      "Charles Pic 17\n",
      "Charles Pic 18\n",
      "Charles Pic 19\n",
      "Charles Pic 20\n",
      "Charles Pic 21\n",
      "Charles Pic 22\n",
      "Charles Pic 23\n",
      "Charles Pic 24\n",
      "Karun Chandhok 1\n",
      "Karun Chandhok 2\n",
      "Karun Chandhok 3\n",
      "Karun Chandhok 4\n",
      "Karun Chandhok 5\n",
      "Karun Chandhok 6\n",
      "Karun Chandhok 7\n",
      "Karun Chandhok 8\n",
      "Karun Chandhok 9\n",
      "Karun Chandhok 10\n",
      "Karun Chandhok 11\n",
      "Karun Chandhok 12\n",
      "Karun Chandhok 13\n",
      "Karun Chandhok 14\n",
      "Karun Chandhok 15\n",
      "Karun Chandhok 16\n",
      "Karun Chandhok 17\n",
      "Karun Chandhok 18\n",
      "Karun Chandhok 19\n",
      "Karun Chandhok 20\n",
      "Karun Chandhok 21\n",
      "Karun Chandhok 22\n",
      "Karun Chandhok 23\n",
      "Karun Chandhok 24\n",
      "Sebastien Buemi 1\n",
      "Sebastien Buemi 2\n",
      "Sebastien Buemi 3\n",
      "Sebastien Buemi 4\n",
      "Sebastien Buemi 5\n",
      "Sebastien Buemi 6\n",
      "Sebastien Buemi 7\n",
      "Sebastien Buemi 8\n",
      "Sebastien Buemi 9\n",
      "Sebastien Buemi 10\n",
      "Sebastien Buemi 11\n",
      "Sebastien Buemi 12\n",
      "Sebastien Buemi 13\n",
      "Sebastien Buemi 14\n",
      "Sebastien Buemi 15\n",
      "Sebastien Buemi 16\n",
      "Sebastien Buemi 17\n",
      "Sebastien Buemi 18\n",
      "Sebastien Buemi 19\n",
      "Sebastien Buemi 20\n",
      "Sebastien Buemi 21\n",
      "Sebastien Buemi 22\n",
      "Sebastien Buemi 23\n",
      "Sebastien Buemi 24\n",
      "Katherine Legge 1\n",
      "Katherine Legge 2\n",
      "Katherine Legge 3\n",
      "Katherine Legge 4\n",
      "Katherine Legge 5\n",
      "Katherine Legge 6\n",
      "Katherine Legge 7\n",
      "Katherine Legge 8\n",
      "Katherine Legge 9\n",
      "Katherine Legge 10\n",
      "Katherine Legge 11\n",
      "Katherine Legge 12\n",
      "Katherine Legge 13\n",
      "Katherine Legge 14\n",
      "Katherine Legge 15\n",
      "Katherine Legge 16\n",
      "Katherine Legge 17\n",
      "Katherine Legge 18\n",
      "Katherine Legge 19\n",
      "Katherine Legge 20\n",
      "Katherine Legge 21\n",
      "Katherine Legge 22\n",
      "Katherine Legge 23\n",
      "Katherine Legge 24\n",
      "JÃ©rome d'AmbrosioÂ  1\n",
      "JÃ©rome d'AmbrosioÂ  2\n",
      "JÃ©rome d'AmbrosioÂ  3\n",
      "JÃ©rome d'AmbrosioÂ  4\n",
      "JÃ©rome d'AmbrosioÂ  5\n",
      "JÃ©rome d'AmbrosioÂ  6\n",
      "JÃ©rome d'AmbrosioÂ  7\n",
      "JÃ©rome d'AmbrosioÂ  8\n",
      "JÃ©rome d'AmbrosioÂ  9\n",
      "JÃ©rome d'AmbrosioÂ  10\n",
      "JÃ©rome d'AmbrosioÂ  11\n",
      "JÃ©rome d'AmbrosioÂ  12\n",
      "JÃ©rome d'AmbrosioÂ  13\n",
      "JÃ©rome d'AmbrosioÂ  14\n",
      "JÃ©rome d'AmbrosioÂ  15\n",
      "JÃ©rome d'AmbrosioÂ  16\n",
      "JÃ©rome d'AmbrosioÂ  17\n",
      "JÃ©rome d'AmbrosioÂ  18\n",
      "JÃ©rome d'AmbrosioÂ  19\n",
      "JÃ©rome d'AmbrosioÂ  20\n",
      "JÃ©rome d'AmbrosioÂ  21\n",
      "JÃ©rome d'AmbrosioÂ  22\n",
      "JÃ©rome d'AmbrosioÂ  23\n",
      "JÃ©rome d'AmbrosioÂ  24\n",
      "Nicolas Prost 1\n",
      "Nicolas Prost 2\n",
      "Nicolas Prost 3\n",
      "Nicolas Prost 4\n",
      "Nicolas Prost 5\n",
      "Nicolas Prost 6\n",
      "Nicolas Prost 7\n",
      "Nicolas Prost 8\n",
      "Nicolas Prost 9\n",
      "Nicolas Prost 10\n",
      "Nicolas Prost 11\n",
      "Nicolas Prost 12\n",
      "Nicolas Prost 13\n",
      "Nicolas Prost 14\n",
      "Nicolas Prost 15\n",
      "Nicolas Prost 16\n",
      "Nicolas Prost 17\n",
      "Nicolas Prost 18\n",
      "Nicolas Prost 19\n",
      "Nicolas Prost 20\n",
      "Nicolas Prost 21\n",
      "Nicolas Prost 22\n",
      "Nicolas Prost 23\n",
      "Nicolas Prost 24\n",
      "Lucas di Grassi 1\n",
      "Lucas di Grassi 2\n",
      "Lucas di Grassi 3\n",
      "Lucas di Grassi 4\n",
      "Lucas di Grassi 5\n",
      "Lucas di Grassi 6\n",
      "Lucas di Grassi 7\n",
      "Lucas di Grassi 8\n",
      "Lucas di Grassi 9\n",
      "Lucas di Grassi 10\n",
      "Lucas di Grassi 11\n",
      "Lucas di Grassi 12\n",
      "Lucas di Grassi 13\n",
      "Lucas di Grassi 14\n",
      "Lucas di Grassi 15\n",
      "Lucas di Grassi 16\n",
      "Lucas di Grassi 17\n",
      "Lucas di Grassi 18\n",
      "Lucas di Grassi 19\n",
      "Lucas di Grassi 20\n",
      "Lucas di Grassi 21\n",
      "Lucas di Grassi 22\n",
      "Lucas di Grassi 23\n",
      "Lucas di Grassi 24\n",
      "Franck Montagny 1\n",
      "Franck Montagny 2\n",
      "Franck Montagny 3\n",
      "Franck Montagny 4\n",
      "Franck Montagny 5\n",
      "Franck Montagny 6\n",
      "Franck Montagny 7\n",
      "Franck Montagny 8\n",
      "Franck Montagny 9\n",
      "Franck Montagny 10\n",
      "Franck Montagny 11\n",
      "Franck Montagny 12\n",
      "Franck Montagny 13\n",
      "Franck Montagny 14\n",
      "Franck Montagny 15\n",
      "Franck Montagny 16\n",
      "Franck Montagny 17\n",
      "Franck Montagny 18\n",
      "Franck Montagny 19\n",
      "Franck Montagny 20\n",
      "Franck Montagny 21\n",
      "Franck Montagny 22\n",
      "Franck Montagny 23\n",
      "Franck Montagny 24\n",
      "Nick Heidfeld 1\n",
      "Nick Heidfeld 2\n",
      "Nick Heidfeld 3\n",
      "Nick Heidfeld 4\n",
      "Nick Heidfeld 5\n",
      "Nick Heidfeld 6\n",
      "Nick Heidfeld 7\n",
      "Nick Heidfeld 8\n",
      "Nick Heidfeld 9\n",
      "Nick Heidfeld 10\n",
      "Nick Heidfeld 11\n",
      "Nick Heidfeld 12\n",
      "Nick Heidfeld 13\n",
      "Nick Heidfeld 14\n",
      "Nick Heidfeld 15\n",
      "Nick Heidfeld 16\n",
      "Nick Heidfeld 17\n",
      "Nick Heidfeld 18\n",
      "Nick Heidfeld 19\n",
      "Nick Heidfeld 20\n",
      "Nick Heidfeld 21\n",
      "Nick Heidfeld 22\n",
      "Nick Heidfeld 23\n",
      "Nick Heidfeld 24\n",
      "Jarno Trulli 1\n",
      "Jarno Trulli 2\n",
      "Jarno Trulli 3\n",
      "Jarno Trulli 4\n",
      "Jarno Trulli 5\n",
      "Jarno Trulli 6\n",
      "Jarno Trulli 7\n",
      "Jarno Trulli 8\n",
      "Jarno Trulli 9\n",
      "Jarno Trulli 10\n",
      "Jarno Trulli 11\n",
      "Jarno Trulli 12\n",
      "Jarno Trulli 13\n",
      "Jarno Trulli 14\n",
      "Jarno Trulli 15\n",
      "Jarno Trulli 16\n",
      "Jarno Trulli 17\n",
      "Jarno Trulli 18\n",
      "Jarno Trulli 19\n",
      "Jarno Trulli 20\n",
      "Jarno Trulli 21\n",
      "Jarno Trulli 22\n",
      "Jarno Trulli 23\n",
      "Jarno Trulli 24\n",
      "Takuma Sato 1\n",
      "Takuma Sato 2\n",
      "Takuma Sato 3\n",
      "Takuma Sato 4\n",
      "Takuma Sato 5\n",
      "Takuma Sato 6\n",
      "Takuma Sato 7\n",
      "Takuma Sato 8\n",
      "Takuma Sato 9\n",
      "Takuma Sato 10\n",
      "Takuma Sato 11\n",
      "Takuma Sato 12\n",
      "Takuma Sato 13\n",
      "Takuma Sato 14\n",
      "Takuma Sato 15\n",
      "Takuma Sato 16\n",
      "Takuma Sato 17\n",
      "Takuma Sato 18\n",
      "Takuma Sato 19\n",
      "Takuma Sato 20\n",
      "Takuma Sato 21\n",
      "Takuma Sato 22\n",
      "Takuma Sato 23\n",
      "Takuma Sato 24\n",
      "Ho-Pin Tung 1\n",
      "Ho-Pin Tung 2\n",
      "Ho-Pin Tung 3\n",
      "Ho-Pin Tung 4\n",
      "Ho-Pin Tung 5\n",
      "Ho-Pin Tung 6\n",
      "Ho-Pin Tung 7\n",
      "Ho-Pin Tung 8\n",
      "Ho-Pin Tung 9\n",
      "Ho-Pin Tung 10\n",
      "Ho-Pin Tung 11\n",
      "Ho-Pin Tung 12\n",
      "Ho-Pin Tung 13\n",
      "Ho-Pin Tung 14\n",
      "Ho-Pin Tung 15\n",
      "Ho-Pin Tung 16\n",
      "Ho-Pin Tung 17\n",
      "Ho-Pin Tung 18\n",
      "Ho-Pin Tung 19\n",
      "Ho-Pin Tung 20\n",
      "Ho-Pin Tung 21\n",
      "Ho-Pin Tung 22\n",
      "Ho-Pin Tung 23\n",
      "Ho-Pin Tung 24\n"
     ]
    }
   ],
   "source": [
    "aggregation = {'KPH':[('mean_KPH','mean'),\n",
    "                ('std_KPH','std'),\n",
    "                ('med_KPH','median'),\n",
    "                ('max_KPH','max'),\n",
    "                ('min_KPH','min'),\n",
    "                ('skew_KPH','skew')],\n",
    "              'S1' : [('mean_S1','mean'),\n",
    "                ('std_S1','std'),\n",
    "                ('med_S1','median'),\n",
    "                ('max_S1','max'),\n",
    "                ('min_S1','min'),\n",
    "                ('skew_S1','skew')],\n",
    "              'S2' : [('mean_S2','mean'),\n",
    "                ('std_S2','std'),\n",
    "                ('med_S2','median'),\n",
    "                ('max_S2','max'),\n",
    "                ('min_S2','min'),\n",
    "                ('skew_S2','skew')],\n",
    "              'S3' : [('mean_S3','mean'),\n",
    "                ('std_S3','std'),\n",
    "                ('med_S3','median'),\n",
    "                ('max_S3','max'),\n",
    "                ('min_S3','min'),\n",
    "                ('skew_S3','skew')],\n",
    "               'LAP_NUMBER': [('Total_Lap_Num','max')],\n",
    "#                'PIT_TIME': [('PIT_TIME_sum','sum')],\n",
    "               'CROSSING_FINISH_LINE_IN_PIT': [('cnt_CROSSING_FINISH_LINE_IN_PIT','count')],\n",
    "              }\n",
    "\n",
    "Max_At_Each_Lap = dict((val, []) for val in Drivers)\n",
    "\n",
    "models = {\n",
    "    \"ElasticNet\": linear_model.ElasticNet(random_state=0, max_iter=10000),\n",
    "    \"Random Forest\": ensemble.RandomForestRegressor(n_estimators=100),\n",
    "    \"K-Nearest Neighbors\": neighbors.KNeighborsRegressor(n_neighbors=5, algorithm='kd_tree', weights='distance'),\n",
    "}\n",
    "\n",
    "for i in Drivers:\n",
    "    for j in range(1,Max_Laps):\n",
    "        print(i,j)\n",
    "        if any((new_test['DRIVER_NAME'] == i) & (new_test['LAP_NUMBER'] >= j)):\n",
    "            temp = new_test[(new_test['DRIVER_NAME'] == i) & (new_test['LAP_NUMBER'] <= j)]\n",
    "            df = temp.groupby(['DRIVER_NAME', 'location','GROUP','TEAM'], as_index=True).agg(aggregation).reset_index()            \n",
    "            df.columns = df.columns.droplevel()\n",
    "            column_names = df.columns.values\n",
    "            column_names[:4] = ['DRIVER_NAME','location','GROUP','TEAM']\n",
    "            df.columns = column_names\n",
    "            df = df.fillna(0)\n",
    "            df = pd.concat([dr,df])\n",
    "            for i1 in ['DRIVER_NAME','location','TEAM']:\n",
    "                df[i1] = df[i1].astype('category').cat.codes\n",
    "            final_df = df\n",
    "            y = final_df['Total_Lap_Num'].to_numpy()\n",
    "            X = final_df.drop(columns = ['Total_Lap_Num']).to_numpy()\n",
    "            X = (X-X.mean())/X.std()\n",
    "            sum_lap = []\n",
    "            for k in models.keys():\n",
    "                model = models[k].fit(X[:1305],y[:1305])\n",
    "                sum_lap.append(model.predict(X[1305:])[0])\n",
    "            Max_At_Each_Lap[i].append(sum_lap) "
   ]
  },
  {
   "cell_type": "code",
   "execution_count": 118,
   "metadata": {},
   "outputs": [
    {
     "data": {
      "text/plain": [
       "{'Oriol Servia': [[22.008558185055485, 2.5, 2.7880515114930695]],\n",
       " 'Jaime Alguersuari': [[22.025345493255873, 2.65, 2.7939158411258487]],\n",
       " 'Stephane Sarrazin': [[21.989344825267597, 2.27, 2.783493204529914]],\n",
       " 'Nelson Piquet JR': [[22.009937659915174, 2.54, 2.786370202075397]],\n",
       " 'Sam Bird': [[22.017552394336974, 2.39, 2.7899652837439044]],\n",
       " 'Daniel Abt': [[22.030466198185085, 2.51, 2.795188599653662]],\n",
       " 'Michela Cerruti': [[21.988862364018424, 2.72, 2.7923020302374093]],\n",
       " 'Charles Pic': [[22.01235926883358, 2.31, 2.78703816655824]],\n",
       " 'Karun Chandhok': [[22.02678517433252, 2.61, 2.7933636048960473]],\n",
       " 'Sebastien Buemi': [[21.993678273866966, 2.42, 2.792853687753525]],\n",
       " 'Katherine Legge': [[22.005804378565152, 2.43, 2.7962071404402664]],\n",
       " \"JÃ©rome d'AmbrosioÂ\\xa0\": [[22.000089190036455, 2.61, 2.786965166600606]],\n",
       " 'Nicolas Prost': [[22.042069598763646, 2.47, 2.806954807623325]],\n",
       " 'Lucas di Grassi': [[22.03679161344956, 2.51, 2.801599562240993]],\n",
       " 'Franck Montagny': [[22.02145022912077, 2.3, 2.7915984177783715]],\n",
       " 'Nick Heidfeld': [[22.02753029592976, 2.44, 2.7931490193836725]],\n",
       " 'Jarno Trulli': [[10.573696021648562, 2.5, 2.572648684435619]],\n",
       " 'Takuma Sato': [[22.01048664803904, 2.47, 2.791132777499602]],\n",
       " 'Ho-Pin Tung': [[20.803094981376933, 2.14, 2.1977560152253064]]}"
      ]
     },
     "execution_count": 118,
     "metadata": {},
     "output_type": "execute_result"
    }
   ],
   "source": [
    "Max_At_Each_Lap"
   ]
  },
  {
   "cell_type": "code",
   "execution_count": 217,
   "metadata": {},
   "outputs": [
    {
     "data": {
      "text/plain": [
       "(19, 30)"
      ]
     },
     "execution_count": 217,
     "metadata": {},
     "output_type": "execute_result"
    }
   ],
   "source": [
    "temp = new_test\n",
    "aggregation = {'KPH':[('mean_KPH','mean'),\n",
    "                ('std_KPH','std'),\n",
    "                ('med_KPH','median'),\n",
    "                ('max_KPH','max'),\n",
    "                ('min_KPH','min'),\n",
    "                ('skew_KPH','skew')],\n",
    "              'S1' : [('mean_S1','mean'),\n",
    "                ('std_S1','std'),\n",
    "                ('med_S1','median'),\n",
    "                ('max_S1','max'),\n",
    "                ('min_S1','min'),\n",
    "                ('skew_S1','skew')],\n",
    "              'S2' : [('mean_S2','mean'),\n",
    "                ('std_S2','std'),\n",
    "                ('med_S2','median'),\n",
    "                ('max_S2','max'),\n",
    "                ('min_S2','min'),\n",
    "                ('skew_S2','skew')],\n",
    "              'S3' : [('mean_S3','mean'),\n",
    "                ('std_S3','std'),\n",
    "                ('med_S3','median'),\n",
    "                ('max_S3','max'),\n",
    "                ('min_S3','min'),\n",
    "                ('skew_S3','skew')],\n",
    "               'LAP_NUMBER': [('Total_Lap_Num','max')],\n",
    "#                'PIT_TIME': [('PIT_TIME_sum','sum')],\n",
    "               'CROSSING_FINISH_LINE_IN_PIT': [('cnt_CROSSING_FINISH_LINE_IN_PIT','count')],\n",
    "              }\n",
    "\n",
    "temp['match_key'] = temp['DRIVER_NAME'] + temp['location']\n",
    "df = temp.groupby(['match_key','DRIVER_NAME','location','GROUP','TEAM'], as_index=True).agg(aggregation).reset_index()\n",
    "df.columns = df.columns.droplevel()\n",
    "column_names = df.columns.values\n",
    "column_names[:5] = ['match_key','DRIVER_NAME','location','GROUP', 'TEAM']\n",
    "df.columns = column_names\n",
    "df = df.drop(columns = ['match_key'])\n",
    "df = df.fillna(0)\n",
    "# df.to_csv('./cleaned_train/race_train_final_processed1.csv',index = False)\n",
    "df.shape"
   ]
  },
  {
   "cell_type": "code",
   "execution_count": 218,
   "metadata": {},
   "outputs": [
    {
     "name": "stdout",
     "output_type": "stream",
     "text": [
      "(1324, 30)\n"
     ]
    }
   ],
   "source": [
    "from sklearn.preprocessing import OneHotEncoder\n",
    "\n",
    "def encode_column_to_dataframe(df, allcols):\n",
    "    '''Takes the column name as a string and adds to the dataframe'''\n",
    "    for col in allcols:\n",
    "        #dum_df = pd.get_dummies(df, columns=col, prefix=col)\n",
    "        # creating instance of one-hot-encoder\n",
    "        enc = OneHotEncoder(handle_unknown='ignore')\n",
    "        # passing bridge-types-cat column (label encoded values of bridge_types)\n",
    "        enc_df = pd.DataFrame(enc.fit_transform(df[[col]]).toarray())\n",
    "        # merge with main df bridge_df on key values\n",
    "        df = df.join(enc_df.add_prefix(col+\"_\"))\n",
    "    return df\n",
    "def get_encoded_dataframe(final):\n",
    "    final_data = encode_column_to_dataframe(final,['DRIVER_NAME','location','TEAM'])\n",
    "    final_data.drop(columns = ['DRIVER_NAME','location','TEAM'],inplace = True)\n",
    "    #final_copy.to_csv('./cleaned/final_processed_before_ml.csv')\n",
    "    #drop only if that column exists originally\n",
    "    #final_data.drop(columns = ['Unnamed: 0'],inplace = True)\n",
    "    return final_data\n",
    "#Generating model-ready data using one hot encoding\n",
    "\n",
    "df = pd.concat([dr,df])\n",
    "print(df.shape)\n",
    "for i in ['DRIVER_NAME','location','TEAM']:\n",
    "    df[i] = df[i].astype('category').cat.codes\n",
    "# final_df = get_encoded_dataframe(df)\n",
    "final_df = df\n",
    "y = final_df['Total_Lap_Num'].to_numpy()\n",
    "X = final_df.drop(columns = ['Total_Lap_Num']).to_numpy()\n",
    "X = (X-X.mean())/X.std()"
   ]
  },
  {
   "cell_type": "code",
   "execution_count": 219,
   "metadata": {},
   "outputs": [
    {
     "name": "stdout",
     "output_type": "stream",
     "text": [
      "----------------------\n",
      "\n",
      "MODEL: ElasticNet\n",
      "(1324, 29)\n",
      "[22.98287707 23.02130008 22.96946084 23.92273043 23.10824152 -4.27073457\n",
      " 22.95513053 22.99472699 23.01574688 22.98151465 22.85903448 22.91134942\n",
      " 22.95017144 22.94643423 22.9116063  22.98073119 24.28463387 22.91845958\n",
      " 23.63945201]\n",
      "[25. 25. 25. 23. 25.  2. 25. 25. 24. 25. 24. 25. 24. 24. 25. 25. 14. 25.\n",
      " 21.]\n",
      "R2 Value:  0.7163918543380825\n",
      "MSE Value:  10.657553682014798\n",
      "----------------------\n",
      "\n",
      "MODEL: Random Forest\n",
      "(1324, 29)\n",
      "[27.11 27.17 27.31 27.09 27.36  2.05 27.41 27.12 27.37 27.25 21.2  27.33\n",
      " 27.19 27.15 27.43 27.15 17.76 27.55 19.16]\n",
      "[25. 25. 25. 23. 25.  2. 25. 25. 24. 25. 24. 25. 24. 24. 25. 25. 14. 25.\n",
      " 21.]\n",
      "R2 Value:  0.8130739680044743\n",
      "MSE Value:  6.917884210526317\n",
      "----------------------\n",
      "\n",
      "MODEL: K-Nearest Neighbors\n",
      "(1324, 29)\n",
      "[29.         29.         29.         25.43847107 29.          2.30024714\n",
      " 29.         29.         29.         29.         29.         29.\n",
      " 29.         29.         29.         29.         28.0046193  29.\n",
      " 35.07061498]\n",
      "[25. 25. 25. 23. 25.  2. 25. 25. 24. 25. 24. 25. 24. 24. 25. 25. 14. 25.\n",
      " 21.]\n",
      "R2 Value:  0.07379325517560209\n",
      "MSE Value:  35.58672931924973\n"
     ]
    }
   ],
   "source": [
    "from sklearn import ensemble, linear_model, neighbors, svm\n",
    "from sklearn.model_selection import train_test_split\n",
    "from sklearn.metrics import mean_squared_error, r2_score\n",
    "import joblib\n",
    "\n",
    "def test_model(X, y, model_name, model):\n",
    "    print(\"MODEL: {}\".format(model_name))\n",
    "    model.fit(X[:1305], y[:1305])\n",
    "    Z = model.predict(X[1305:])\n",
    "    print(X.shape)\n",
    "    print(Z)\n",
    "    print(y[1305:])\n",
    "    #filename = model_name + '.joblib.pkl'\n",
    "    #_ = joblib.dump(model, filename, compress=9)\n",
    "    #print(Z)\n",
    "    print(\"R2 Value: \", r2_score(Z, y[1305:]))\n",
    "    print(\"MSE Value: \", mean_squared_error(Z, y[1305:]))\n",
    "    \n",
    "models = {\n",
    "    \"ElasticNet\": linear_model.ElasticNet(random_state=0, max_iter=10000),\n",
    "    \"Random Forest\": ensemble.RandomForestRegressor(n_estimators=100),\n",
    "    \"K-Nearest Neighbors\": neighbors.KNeighborsRegressor(n_neighbors=5, algorithm='kd_tree', weights='distance'),\n",
    "}\n",
    "for model in models.keys():\n",
    "    print('----------------------\\n')\n",
    "    test_model(X,y,model, models[model])\n",
    "    "
   ]
  },
  {
   "cell_type": "code",
   "execution_count": 229,
   "metadata": {},
   "outputs": [
    {
     "data": {
      "text/plain": [
       "['Charles Pic',\n",
       " 'Daniel Abt',\n",
       " 'Franck Montagny',\n",
       " 'Ho-Pin Tung',\n",
       " 'Jaime Alguersuari',\n",
       " 'Jarno Trulli',\n",
       " \"JÃ©rome d'AmbrosioÂ\\xa0\",\n",
       " 'Karun Chandhok',\n",
       " 'Katherine Legge',\n",
       " 'Lucas di Grassi',\n",
       " 'Michela Cerruti',\n",
       " 'Nelson Piquet JR',\n",
       " 'Nick Heidfeld',\n",
       " 'Nicolas Prost',\n",
       " 'Oriol Servia',\n",
       " 'Sam Bird',\n",
       " 'Sebastien Buemi',\n",
       " 'Stephane Sarrazin',\n",
       " 'Takuma Sato']"
      ]
     },
     "execution_count": 229,
     "metadata": {},
     "output_type": "execute_result"
    }
   ],
   "source": [
    "sorted(Drivers)"
   ]
  },
  {
   "cell_type": "code",
   "execution_count": 174,
   "metadata": {},
   "outputs": [],
   "source": [
    "import statistics\n",
    "\n",
    "Max_RF = []\n",
    "Max_KNN = []\n",
    "Max_EN = []\n",
    "Avg = []\n",
    "Maxie = []\n",
    "Median = []"
   ]
  },
  {
   "cell_type": "code",
   "execution_count": 234,
   "metadata": {},
   "outputs": [],
   "source": [
    "import statistics\n",
    "\n",
    "Max_RF = []\n",
    "Max_KNN = []\n",
    "Max_EN = []\n",
    "W_Avg = []\n",
    "Maxie = []\n",
    "Mean = []\n",
    "\n",
    "for j in range(0,Max_Laps-1):\n",
    "    m_r = 0\n",
    "    m_k = 0\n",
    "    m_e = 0\n",
    "    for i in Drivers:\n",
    "        if j>len(Max_At_Each_Lap[i])-1:\n",
    "            continue\n",
    "        temp = Max_At_Each_Lap[i][j]\n",
    "        if temp[0] > m_e:\n",
    "            m_e = abs(temp[0])\n",
    "        if temp[1] > m_r:\n",
    "            m_r = abs(temp[1])\n",
    "        if temp[2] > m_k:\n",
    "            m_k = abs(temp[2])\n",
    "    Max_RF.append(m_r)\n",
    "    Max_KNN.append(m_k)\n",
    "    Max_EN.append(m_e)\n",
    "    if j < 12:\n",
    "        W_Avg.append((0.05*m_r) + (0.9*m_e) + (0.05*m_k))\n",
    "    else:\n",
    "        W_Avg.append((0.5*m_r) + (0.4*m_e) + (0.1*m_k))\n",
    "    Maxie.append(max([m_r, m_e, m_k]))\n",
    "    Mean.append(statistics.mean([m_r, m_e, m_k]))"
   ]
  },
  {
   "cell_type": "code",
   "execution_count": 235,
   "metadata": {},
   "outputs": [
    {
     "data": {
      "text/plain": [
       "[<matplotlib.lines.Line2D at 0x7fdb9091e7c0>]"
      ]
     },
     "execution_count": 235,
     "metadata": {},
     "output_type": "execute_result"
    },
    {
     "data": {
      "text/plain": [
       "[<matplotlib.lines.Line2D at 0x7fdb90922730>]"
      ]
     },
     "execution_count": 235,
     "metadata": {},
     "output_type": "execute_result"
    },
    {
     "data": {
      "text/plain": [
       "[<matplotlib.lines.Line2D at 0x7fdb90922640>]"
      ]
     },
     "execution_count": 235,
     "metadata": {},
     "output_type": "execute_result"
    },
    {
     "data": {
      "text/plain": [
       "[<matplotlib.lines.Line2D at 0x7fdb909220d0>]"
      ]
     },
     "execution_count": 235,
     "metadata": {},
     "output_type": "execute_result"
    },
    {
     "data": {
      "text/plain": [
       "[<matplotlib.lines.Line2D at 0x7fdb909d2c40>]"
      ]
     },
     "execution_count": 235,
     "metadata": {},
     "output_type": "execute_result"
    },
    {
     "data": {
      "image/png": "[encoded data removed]",
      "text/plain": [
       "<Figure size 432x288 with 1 Axes>"
      ]
     },
     "metadata": {
      "needs_background": "light"
     },
     "output_type": "display_data"
    }
   ],
   "source": [
    "import matplotlib.pyplot as plt\n",
    "plt.plot(Max_RF)\n",
    "# plt.clf()\n",
    "plt.plot(Max_KNN)\n",
    "plt.plot(Max_EN)\n",
    "plt.plot(Avg)\n",
    "plt.plot(Mean)"
   ]
  },
  {
   "cell_type": "code",
   "execution_count": 186,
   "metadata": {},
   "outputs": [
    {
     "data": {
      "text/plain": [
       "[2.800848804154286,\n",
       " 3.1777276401355348,\n",
       " 3.0000000000000004,\n",
       " 3.191753962900363,\n",
       " 3.1995747573547133,\n",
       " 3.9818816701983075,\n",
       " 20.430718835387296,\n",
       " 22.174790960242973,\n",
       " 22.219641634662935,\n",
       " 22.259121460831004,\n",
       " 22.295494394726017,\n",
       " 48.60052763955342,\n",
       " 48.60055290821747,\n",
       " 48.600520056719546,\n",
       " 35.10436987779313,\n",
       " 35.16287048961344,\n",
       " 35.21645617130313,\n",
       " 35.26531464941788,\n",
       " 35.310569589164984,\n",
       " 35.450675848845144,\n",
       " 35.451806245922505,\n",
       " 35.45457111020092,\n",
       " 35.45700922294118,\n",
       " 35.45858606494356]"
      ]
     },
     "execution_count": 186,
     "metadata": {},
     "output_type": "execute_result"
    }
   ],
   "source": [
    "Max_KNN"
   ]
  },
  {
   "cell_type": "code",
   "execution_count": 160,
   "metadata": {},
   "outputs": [
    {
     "name": "stdout",
     "output_type": "stream",
     "text": [
      "0.013480790106567664\n"
     ]
    },
    {
     "data": {
      "text/plain": [
       "array([0.        , 0.02039061, 0.97932722])"
      ]
     },
     "execution_count": 160,
     "metadata": {},
     "output_type": "execute_result"
    }
   ],
   "source": [
    "X_train, X_test, y_train, y_test = train_test_split(X, y, test_size=0.2)\n",
    "sum_lap = []\n",
    "for k in models.keys():\n",
    "    model = models[k].fit(X_train,y_train)\n",
    "    sum_lap.append(model.predict(X[1305:]))\n",
    "F = list(zip(sum_lap[0], sum_lap[1], sum_lap[2]))\n",
    "\n",
    "import numpy as np\n",
    "from scipy.optimize import nnls \n",
    "##Define the input vectors\n",
    "\n",
    "##Caluculate nnls\n",
    "x, resdiual_norm = nnls(F,y[1305:])\n",
    "\n",
    "\n",
    "##Find the difference\n",
    "print(np.sum(np.sum(F*x,1)-y[1305:]))\n",
    "x"
   ]
  },
  {
   "cell_type": "code",
   "execution_count": 202,
   "metadata": {},
   "outputs": [
    {
     "data": {
      "text/plain": [
       "([[18.414207651012582, 2.78, 2.2004622386122126],\n",
       "  [17.347330690965336, 2.15, 2.597274649096954],\n",
       "  [17.823696167635692, 2.69, 3.0],\n",
       "  [18.123633281135152, 2.84, 3.191753962900363],\n",
       "  [18.32777167336396, 3.0, 3.1995747573547133],\n",
       "  [18.476391533857026, 5.27, 3.2065168797954255],\n",
       "  [18.590263197524173, 8.43, 3.3910450281911526],\n",
       "  [18.680834501068993, 10.8, 3.3967374585839414],\n",
       "  [18.75487451479016, 14.5, 3.4013150848125204],\n",
       "  [18.816864448088285, 15.13, 3.4050524583947115],\n",
       "  [18.869671109225337, 15.88, 3.408043249667184],\n",
       "  [18.968389363123404, 16.3, 3.431846272820306],\n",
       "  [20.153865541113056, 15.97, 15.936283605966588],\n",
       "  [20.189248129132796, 17.98, 16.152477475906075],\n",
       "  [20.22083909654083, 17.14, 16.346596625936805],\n",
       "  [20.24928091783656, 17.56, 16.523362620023395],\n",
       "  [20.27504516014656, 16.25, 16.682024758643458],\n",
       "  [20.29849442065713, 17.93, 16.824577557483135],\n",
       "  [20.320006511418743, 18.83, 16.955880350449007],\n",
       "  [20.339795326648357, 20.17, 20.869717334908977],\n",
       "  [20.358082793366954, 25.57, 20.97349824541172],\n",
       "  [20.375022059925524, 27.02, 21.067625117803985],\n",
       "  [20.39077783689732, 27.53, 21.15264139585371]],\n",
       " 'Ho-Pin Tung')"
      ]
     },
     "execution_count": 202,
     "metadata": {},
     "output_type": "execute_result"
    }
   ],
   "source": [
    "Max_At_Each_Lap[i], i"
   ]
  },
  {
   "cell_type": "code",
   "execution_count": 226,
   "metadata": {},
   "outputs": [
    {
     "data": {
      "text/plain": [
       "[<matplotlib.lines.Line2D at 0x7fdb9182b3d0>]"
      ]
     },
     "execution_count": 226,
     "metadata": {},
     "output_type": "execute_result"
    },
    {
     "data": {
      "text/plain": [
       "<matplotlib.legend.Legend at 0x7fdb91825d60>"
      ]
     },
     "execution_count": 226,
     "metadata": {},
     "output_type": "execute_result"
    },
    {
     "data": {
      "image/png": "[encoded data removed]",
      "text/plain": [
       "<Figure size 432x288 with 1 Axes>"
      ]
     },
     "metadata": {
      "needs_background": "light"
     },
     "output_type": "display_data"
    }
   ],
   "source": [
    "colors = ['b', 'c', 'y', 'm', 'r']\n",
    "\n",
    "ll = plt.scatter(range(Max_Laps-1), Max_RF, marker='o', color=colors[0])\n",
    "l  = plt.scatter(range(Max_Laps-1), Max_EN, marker='o', color=colors[1])\n",
    "a  = plt.scatter(range(Max_Laps-1), Max_KNN, marker='o', color=colors[2])\n",
    "h  = plt.scatter(range(Max_Laps-1), Avg, marker='o', color=colors[3])\n",
    "h1  = plt.scatter(range(Max_Laps-1), Mean, marker='o', color=colors[4])\n",
    "plt.plot([Max_Laps]*(Max_Laps-1))\n",
    "\n",
    "plt.legend((ll, l, a, h, h1),\n",
    "           ('Random Forest', 'ElasticNet', 'KNN', 'Weighted Average', 'Mean/Average'),\n",
    "           scatterpoints=1,\n",
    "           loc='upper right',\n",
    "           ncol=3,\n",
    "           fontsize=8)"
   ]
  },
  {
   "cell_type": "code",
   "execution_count": 239,
   "metadata": {},
   "outputs": [],
   "source": [
    "WN_Avg = []\n",
    "for j,i in enumerate(Max_At_Each_Lap['Sam Bird']):\n",
    "    if j < 12:\n",
    "        WN_Avg.append((0.05*m_r) + (0.9*m_e) + (0.05*m_k))\n",
    "    else:\n",
    "        WN_Avg.append((0.5*m_r) + (0.4*m_e) + (0.1*m_k))\n",
    "\n",
    "By_Driver = {}\n",
    "for k in models.keys():\n",
    "    model = models[k].fit(X[:1305],y[:1305])\n",
    "    By_Driver[k] = abs(model.predict(X[1305:]))"
   ]
  },
  {
   "cell_type": "code",
   "execution_count": 240,
   "metadata": {},
   "outputs": [],
   "source": [
    "temp_dict = {'Random Forest':Max_RF, 'ElasticNet':Max_EN, 'KNN':Max_KNN, 'Weighted Average':W_Avg, 'Mean/Average':Mean, 'Actual':[Max_Laps]*(Max_Laps-1)}\n",
    "D_temp_dict = {'Weighted Average':WN_Avg}\n",
    "By_Driver['Driver'] = sorted(Drivers)\n",
    "By_Driver['Actual'] = y[1305:]"
   ]
  },
  {
   "cell_type": "code",
   "execution_count": 241,
   "metadata": {},
   "outputs": [],
   "source": [
    "df = pd.DataFrame(temp_dict)\n",
    "df.to_csv('temp_dict.csv')\n",
    "df = pd.DataFrame(D_temp_dict)\n",
    "df.to_csv('D_temp_dict.csv')\n",
    "df = pd.DataFrame(By_Driver)\n",
    "df.to_csv('By_Driver.csv')"
   ]
  },
  {
   "cell_type": "code",
   "execution_count": null,
   "metadata": {},
   "outputs": [],
   "source": []
  }
 ],
 "metadata": {
  "kernelspec": {
   "display_name": "Python 3",
   "language": "python",
   "name": "python3"
  },
  "language_info": {
   "codemirror_mode": {
    "name": "ipython",
    "version": 3
   },
   "file_extension": ".py",
   "mimetype": "text/x-python",
   "name": "python",
   "nbconvert_exporter": "python",
   "pygments_lexer": "ipython3",
   "version": "3.8.3"
  }
 },
 "nbformat": 4,
 "nbformat_minor": 4
}
